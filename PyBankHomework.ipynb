{
 "cells": [
  {
   "cell_type": "code",
   "execution_count": 17,
   "metadata": {},
   "outputs": [
    {
     "name": "stdout",
     "output_type": "stream",
     "text": [
      "Financial Analysis\n",
      "Total Months: 86\n",
      "Total: $38382578\n",
      "Average Change: $-2315.1176470588234\n",
      "Greatest Increase in Profits: Feb-2012 $ 1926159\n",
      "Greatest Decrease in Profits: Feb-2012 $ -2196167\n"
     ]
    }
   ],
   "source": [
    "import os, csv\n",
    "\n",
    "total_months = []\n",
    "total_profits = []\n",
    "rev_change = []\n",
    "\n",
    "#Open CSV\n",
    "with open(\"budget_data.csv\") as f:\n",
    "    #read file data, delimit by comma\n",
    "    reader = csv.reader(f, delimiter = ',')\n",
    "    #skip header\n",
    "    next(reader)\n",
    "    #iterate through rows\n",
    "    for line in reader:\n",
    "        #add month to list\n",
    "        total_months.append(line[0])\n",
    "        #add profit to list\n",
    "        total_profits.append(int(line[1]))\n",
    "    \n",
    "    for x in range(1, len(total_profits)):\n",
    "        #subtract\n",
    "        rev_change.append((int(total_profits[x]) - int(total_profits[x-1])))\n",
    "        \n",
    "    # total number of noths\n",
    "    num_months = len(total_months)\n",
    "    \n",
    "    # net total profit/loss\n",
    "    net_total = sum(total_profits)\n",
    "    \n",
    "    #avg change in revenue\n",
    "    rev_avg = sum(rev_change) / len(rev_change)\n",
    "        \n",
    "    #get largest increase\n",
    "    max_increase = max(rev_change)\n",
    "    max_decrease = min(rev_change)\n",
    "    \n",
    "    #get greatest increase for a month's profits   \n",
    "    index =  rev_change.index(max_increase)\n",
    "    greatest_inc_display = (total_months[index+1]), max_increase\n",
    "    \n",
    "    #get greatest decrease for a month's profits\n",
    "    decrease_index =  rev_change.index(max_decrease)\n",
    "    greatest_dec_display = (total_months[index+1]), max_decrease\n",
    "    \n",
    "    \n",
    "    print(\"Financial Analysis\") \n",
    "    print(\"Total Months:\", num_months)\n",
    "    print(\"Total:\", \"$\" + str(net_total))\n",
    "    print(\"Average Change: $\" + str(rev_avg))\n",
    "    print(\"Greatest Increase in Profits:\", greatest_inc_display[0], \"$\", str(greatest_inc_display[1]))\n",
    "    print(\"Greatest Decrease in Profits:\", greatest_dec_display[0], \"$\", str(greatest_dec_display[1]))"
   ]
  },
  {
   "cell_type": "code",
   "execution_count": null,
   "metadata": {},
   "outputs": [],
   "source": [
    "\n",
    "    "
   ]
  },
  {
   "cell_type": "code",
   "execution_count": null,
   "metadata": {},
   "outputs": [],
   "source": []
  },
  {
   "cell_type": "code",
   "execution_count": null,
   "metadata": {},
   "outputs": [],
   "source": []
  },
  {
   "cell_type": "code",
   "execution_count": null,
   "metadata": {},
   "outputs": [],
   "source": []
  }
 ],
 "metadata": {
  "kernelspec": {
   "display_name": "Python 3",
   "language": "python",
   "name": "python3"
  },
  "language_info": {
   "codemirror_mode": {
    "name": "ipython",
    "version": 3
   },
   "file_extension": ".py",
   "mimetype": "text/x-python",
   "name": "python",
   "nbconvert_exporter": "python",
   "pygments_lexer": "ipython3",
   "version": "3.8.3"
  }
 },
 "nbformat": 4,
 "nbformat_minor": 4
}
